{
 "cells": [
  {
   "cell_type": "code",
   "execution_count": 1,
   "id": "8b143a28",
   "metadata": {},
   "outputs": [],
   "source": [
    "import pandas as pd\n",
    "import numpy as np\n",
    "\n",
    "import matplotlib.pyplot as plt\n",
    "import seaborn as sns\n",
    "\n",
    "from sklearn.preprocessing import MinMaxScaler, LabelEncoder\n",
    "from sklearn.model_selection import train_test_split as tts\n",
    "from sklearn.tree import DecisionTreeClassifier\n",
    "from sklearn import metrics\n",
    "from sklearn.metrics import confusion_matrix, f1_score, precision_score, accuracy_score, recall_score\n",
    "\n",
    "import warnings\n",
    "warnings.filterwarnings('ignore')"
   ]
  },
  {
   "cell_type": "code",
   "execution_count": 2,
   "id": "4a745bcd",
   "metadata": {},
   "outputs": [],
   "source": [
    "#Importing the data\n",
    "data=pd.read_csv(\"C:\\\\EVARCITY\\\\Data Science\\\\Evarcity\\\\Bank_Full.csv\")"
   ]
  },
  {
   "cell_type": "code",
   "execution_count": 3,
   "id": "a5556451",
   "metadata": {},
   "outputs": [
    {
     "data": {
      "text/plain": [
       "(45211, 17)"
      ]
     },
     "execution_count": 3,
     "metadata": {},
     "output_type": "execute_result"
    }
   ],
   "source": [
    "data.shape"
   ]
  },
  {
   "cell_type": "code",
   "execution_count": 4,
   "id": "914d8cb1",
   "metadata": {},
   "outputs": [
    {
     "data": {
      "text/html": [
       "<div>\n",
       "<style scoped>\n",
       "    .dataframe tbody tr th:only-of-type {\n",
       "        vertical-align: middle;\n",
       "    }\n",
       "\n",
       "    .dataframe tbody tr th {\n",
       "        vertical-align: top;\n",
       "    }\n",
       "\n",
       "    .dataframe thead th {\n",
       "        text-align: right;\n",
       "    }\n",
       "</style>\n",
       "<table border=\"1\" class=\"dataframe\">\n",
       "  <thead>\n",
       "    <tr style=\"text-align: right;\">\n",
       "      <th></th>\n",
       "      <th>age</th>\n",
       "      <th>job</th>\n",
       "      <th>marital</th>\n",
       "      <th>education</th>\n",
       "      <th>default</th>\n",
       "      <th>balance</th>\n",
       "      <th>housing</th>\n",
       "      <th>loan</th>\n",
       "      <th>contact</th>\n",
       "      <th>day</th>\n",
       "      <th>month</th>\n",
       "      <th>duration</th>\n",
       "      <th>campaign</th>\n",
       "      <th>pdays</th>\n",
       "      <th>previous</th>\n",
       "      <th>poutcome</th>\n",
       "      <th>y</th>\n",
       "    </tr>\n",
       "  </thead>\n",
       "  <tbody>\n",
       "    <tr>\n",
       "      <th>0</th>\n",
       "      <td>58</td>\n",
       "      <td>management</td>\n",
       "      <td>married</td>\n",
       "      <td>tertiary</td>\n",
       "      <td>no</td>\n",
       "      <td>2143</td>\n",
       "      <td>yes</td>\n",
       "      <td>no</td>\n",
       "      <td>unknown</td>\n",
       "      <td>5</td>\n",
       "      <td>may</td>\n",
       "      <td>261</td>\n",
       "      <td>1</td>\n",
       "      <td>-1</td>\n",
       "      <td>0</td>\n",
       "      <td>unknown</td>\n",
       "      <td>no</td>\n",
       "    </tr>\n",
       "    <tr>\n",
       "      <th>1</th>\n",
       "      <td>44</td>\n",
       "      <td>technician</td>\n",
       "      <td>single</td>\n",
       "      <td>secondary</td>\n",
       "      <td>no</td>\n",
       "      <td>29</td>\n",
       "      <td>yes</td>\n",
       "      <td>no</td>\n",
       "      <td>unknown</td>\n",
       "      <td>5</td>\n",
       "      <td>may</td>\n",
       "      <td>151</td>\n",
       "      <td>1</td>\n",
       "      <td>-1</td>\n",
       "      <td>0</td>\n",
       "      <td>unknown</td>\n",
       "      <td>no</td>\n",
       "    </tr>\n",
       "    <tr>\n",
       "      <th>2</th>\n",
       "      <td>33</td>\n",
       "      <td>entrepreneur</td>\n",
       "      <td>married</td>\n",
       "      <td>secondary</td>\n",
       "      <td>no</td>\n",
       "      <td>2</td>\n",
       "      <td>yes</td>\n",
       "      <td>yes</td>\n",
       "      <td>unknown</td>\n",
       "      <td>5</td>\n",
       "      <td>may</td>\n",
       "      <td>76</td>\n",
       "      <td>1</td>\n",
       "      <td>-1</td>\n",
       "      <td>0</td>\n",
       "      <td>unknown</td>\n",
       "      <td>no</td>\n",
       "    </tr>\n",
       "    <tr>\n",
       "      <th>3</th>\n",
       "      <td>47</td>\n",
       "      <td>blue-collar</td>\n",
       "      <td>married</td>\n",
       "      <td>unknown</td>\n",
       "      <td>no</td>\n",
       "      <td>1506</td>\n",
       "      <td>yes</td>\n",
       "      <td>no</td>\n",
       "      <td>unknown</td>\n",
       "      <td>5</td>\n",
       "      <td>may</td>\n",
       "      <td>92</td>\n",
       "      <td>1</td>\n",
       "      <td>-1</td>\n",
       "      <td>0</td>\n",
       "      <td>unknown</td>\n",
       "      <td>no</td>\n",
       "    </tr>\n",
       "    <tr>\n",
       "      <th>4</th>\n",
       "      <td>33</td>\n",
       "      <td>unknown</td>\n",
       "      <td>single</td>\n",
       "      <td>unknown</td>\n",
       "      <td>no</td>\n",
       "      <td>1</td>\n",
       "      <td>no</td>\n",
       "      <td>no</td>\n",
       "      <td>unknown</td>\n",
       "      <td>5</td>\n",
       "      <td>may</td>\n",
       "      <td>198</td>\n",
       "      <td>1</td>\n",
       "      <td>-1</td>\n",
       "      <td>0</td>\n",
       "      <td>unknown</td>\n",
       "      <td>no</td>\n",
       "    </tr>\n",
       "  </tbody>\n",
       "</table>\n",
       "</div>"
      ],
      "text/plain": [
       "   age           job  marital  education default  balance housing loan  \\\n",
       "0   58    management  married   tertiary      no     2143     yes   no   \n",
       "1   44    technician   single  secondary      no       29     yes   no   \n",
       "2   33  entrepreneur  married  secondary      no        2     yes  yes   \n",
       "3   47   blue-collar  married    unknown      no     1506     yes   no   \n",
       "4   33       unknown   single    unknown      no        1      no   no   \n",
       "\n",
       "   contact  day month  duration  campaign  pdays  previous poutcome   y  \n",
       "0  unknown    5   may       261         1     -1         0  unknown  no  \n",
       "1  unknown    5   may       151         1     -1         0  unknown  no  \n",
       "2  unknown    5   may        76         1     -1         0  unknown  no  \n",
       "3  unknown    5   may        92         1     -1         0  unknown  no  \n",
       "4  unknown    5   may       198         1     -1         0  unknown  no  "
      ]
     },
     "execution_count": 4,
     "metadata": {},
     "output_type": "execute_result"
    }
   ],
   "source": [
    "data.head()"
   ]
  },
  {
   "cell_type": "code",
   "execution_count": 5,
   "id": "18ffb96f",
   "metadata": {},
   "outputs": [
    {
     "data": {
      "text/plain": [
       "0"
      ]
     },
     "execution_count": 5,
     "metadata": {},
     "output_type": "execute_result"
    }
   ],
   "source": [
    "data.duplicated().sum()"
   ]
  },
  {
   "cell_type": "code",
   "execution_count": 6,
   "id": "27a855fc",
   "metadata": {},
   "outputs": [
    {
     "name": "stdout",
     "output_type": "stream",
     "text": [
      "<class 'pandas.core.frame.DataFrame'>\n",
      "RangeIndex: 45211 entries, 0 to 45210\n",
      "Data columns (total 17 columns):\n",
      " #   Column     Non-Null Count  Dtype \n",
      "---  ------     --------------  ----- \n",
      " 0   age        45211 non-null  int64 \n",
      " 1   job        45211 non-null  object\n",
      " 2   marital    45211 non-null  object\n",
      " 3   education  45211 non-null  object\n",
      " 4   default    45211 non-null  object\n",
      " 5   balance    45211 non-null  int64 \n",
      " 6   housing    45211 non-null  object\n",
      " 7   loan       45211 non-null  object\n",
      " 8   contact    45211 non-null  object\n",
      " 9   day        45211 non-null  int64 \n",
      " 10  month      45211 non-null  object\n",
      " 11  duration   45211 non-null  int64 \n",
      " 12  campaign   45211 non-null  int64 \n",
      " 13  pdays      45211 non-null  int64 \n",
      " 14  previous   45211 non-null  int64 \n",
      " 15  poutcome   45211 non-null  object\n",
      " 16  y          45211 non-null  object\n",
      "dtypes: int64(7), object(10)\n",
      "memory usage: 5.9+ MB\n"
     ]
    }
   ],
   "source": [
    "data.info()"
   ]
  },
  {
   "cell_type": "markdown",
   "id": "9115c1b3",
   "metadata": {},
   "source": [
    "The given data has 16 independent variables. Data does not has a duplicated recordings and non of the variables has a missing values."
   ]
  },
  {
   "cell_type": "code",
   "execution_count": 7,
   "id": "59090c41",
   "metadata": {},
   "outputs": [
    {
     "data": {
      "text/html": [
       "<div>\n",
       "<style scoped>\n",
       "    .dataframe tbody tr th:only-of-type {\n",
       "        vertical-align: middle;\n",
       "    }\n",
       "\n",
       "    .dataframe tbody tr th {\n",
       "        vertical-align: top;\n",
       "    }\n",
       "\n",
       "    .dataframe thead th {\n",
       "        text-align: right;\n",
       "    }\n",
       "</style>\n",
       "<table border=\"1\" class=\"dataframe\">\n",
       "  <thead>\n",
       "    <tr style=\"text-align: right;\">\n",
       "      <th></th>\n",
       "      <th>count</th>\n",
       "      <th>mean</th>\n",
       "      <th>std</th>\n",
       "      <th>min</th>\n",
       "      <th>25%</th>\n",
       "      <th>50%</th>\n",
       "      <th>75%</th>\n",
       "      <th>max</th>\n",
       "    </tr>\n",
       "  </thead>\n",
       "  <tbody>\n",
       "    <tr>\n",
       "      <th>age</th>\n",
       "      <td>45211.0</td>\n",
       "      <td>40.936210</td>\n",
       "      <td>10.618762</td>\n",
       "      <td>18.0</td>\n",
       "      <td>33.0</td>\n",
       "      <td>39.0</td>\n",
       "      <td>48.0</td>\n",
       "      <td>95.0</td>\n",
       "    </tr>\n",
       "    <tr>\n",
       "      <th>balance</th>\n",
       "      <td>45211.0</td>\n",
       "      <td>1362.272058</td>\n",
       "      <td>3044.765829</td>\n",
       "      <td>-8019.0</td>\n",
       "      <td>72.0</td>\n",
       "      <td>448.0</td>\n",
       "      <td>1428.0</td>\n",
       "      <td>102127.0</td>\n",
       "    </tr>\n",
       "    <tr>\n",
       "      <th>day</th>\n",
       "      <td>45211.0</td>\n",
       "      <td>15.806419</td>\n",
       "      <td>8.322476</td>\n",
       "      <td>1.0</td>\n",
       "      <td>8.0</td>\n",
       "      <td>16.0</td>\n",
       "      <td>21.0</td>\n",
       "      <td>31.0</td>\n",
       "    </tr>\n",
       "    <tr>\n",
       "      <th>duration</th>\n",
       "      <td>45211.0</td>\n",
       "      <td>258.163080</td>\n",
       "      <td>257.527812</td>\n",
       "      <td>0.0</td>\n",
       "      <td>103.0</td>\n",
       "      <td>180.0</td>\n",
       "      <td>319.0</td>\n",
       "      <td>4918.0</td>\n",
       "    </tr>\n",
       "    <tr>\n",
       "      <th>campaign</th>\n",
       "      <td>45211.0</td>\n",
       "      <td>2.763841</td>\n",
       "      <td>3.098021</td>\n",
       "      <td>1.0</td>\n",
       "      <td>1.0</td>\n",
       "      <td>2.0</td>\n",
       "      <td>3.0</td>\n",
       "      <td>63.0</td>\n",
       "    </tr>\n",
       "    <tr>\n",
       "      <th>pdays</th>\n",
       "      <td>45211.0</td>\n",
       "      <td>40.197828</td>\n",
       "      <td>100.128746</td>\n",
       "      <td>-1.0</td>\n",
       "      <td>-1.0</td>\n",
       "      <td>-1.0</td>\n",
       "      <td>-1.0</td>\n",
       "      <td>871.0</td>\n",
       "    </tr>\n",
       "    <tr>\n",
       "      <th>previous</th>\n",
       "      <td>45211.0</td>\n",
       "      <td>0.580323</td>\n",
       "      <td>2.303441</td>\n",
       "      <td>0.0</td>\n",
       "      <td>0.0</td>\n",
       "      <td>0.0</td>\n",
       "      <td>0.0</td>\n",
       "      <td>275.0</td>\n",
       "    </tr>\n",
       "  </tbody>\n",
       "</table>\n",
       "</div>"
      ],
      "text/plain": [
       "            count         mean          std     min    25%    50%     75%  \\\n",
       "age       45211.0    40.936210    10.618762    18.0   33.0   39.0    48.0   \n",
       "balance   45211.0  1362.272058  3044.765829 -8019.0   72.0  448.0  1428.0   \n",
       "day       45211.0    15.806419     8.322476     1.0    8.0   16.0    21.0   \n",
       "duration  45211.0   258.163080   257.527812     0.0  103.0  180.0   319.0   \n",
       "campaign  45211.0     2.763841     3.098021     1.0    1.0    2.0     3.0   \n",
       "pdays     45211.0    40.197828   100.128746    -1.0   -1.0   -1.0    -1.0   \n",
       "previous  45211.0     0.580323     2.303441     0.0    0.0    0.0     0.0   \n",
       "\n",
       "               max  \n",
       "age           95.0  \n",
       "balance   102127.0  \n",
       "day           31.0  \n",
       "duration    4918.0  \n",
       "campaign      63.0  \n",
       "pdays        871.0  \n",
       "previous     275.0  "
      ]
     },
     "execution_count": 7,
     "metadata": {},
     "output_type": "execute_result"
    }
   ],
   "source": [
    "data.describe().T"
   ]
  },
  {
   "cell_type": "markdown",
   "id": "3c699ee1",
   "metadata": {},
   "source": [
    "Observations:\n",
    "1) Adult customers are targated for the campaign with average age of 41yeras.\n",
    "\n",
    "2) On an average customers are interacted for 258sec (4.3min) with campaign executive on phone call.\n",
    "\n",
    "3) In this campaign 75 percentile of the customers are contacted for three times.\n",
    "\n",
    "4) Most of the customers in this campaign are new, 75 percentile of them are not contacted before(zero contacts). "
   ]
  },
  {
   "cell_type": "code",
   "execution_count": 8,
   "id": "4318ee75",
   "metadata": {},
   "outputs": [
    {
     "data": {
      "text/html": [
       "<div>\n",
       "<style scoped>\n",
       "    .dataframe tbody tr th:only-of-type {\n",
       "        vertical-align: middle;\n",
       "    }\n",
       "\n",
       "    .dataframe tbody tr th {\n",
       "        vertical-align: top;\n",
       "    }\n",
       "\n",
       "    .dataframe thead th {\n",
       "        text-align: right;\n",
       "    }\n",
       "</style>\n",
       "<table border=\"1\" class=\"dataframe\">\n",
       "  <thead>\n",
       "    <tr style=\"text-align: right;\">\n",
       "      <th></th>\n",
       "      <th>count</th>\n",
       "      <th>unique</th>\n",
       "      <th>top</th>\n",
       "      <th>freq</th>\n",
       "    </tr>\n",
       "  </thead>\n",
       "  <tbody>\n",
       "    <tr>\n",
       "      <th>job</th>\n",
       "      <td>45211</td>\n",
       "      <td>12</td>\n",
       "      <td>blue-collar</td>\n",
       "      <td>9732</td>\n",
       "    </tr>\n",
       "    <tr>\n",
       "      <th>marital</th>\n",
       "      <td>45211</td>\n",
       "      <td>3</td>\n",
       "      <td>married</td>\n",
       "      <td>27214</td>\n",
       "    </tr>\n",
       "    <tr>\n",
       "      <th>education</th>\n",
       "      <td>45211</td>\n",
       "      <td>4</td>\n",
       "      <td>secondary</td>\n",
       "      <td>23202</td>\n",
       "    </tr>\n",
       "    <tr>\n",
       "      <th>default</th>\n",
       "      <td>45211</td>\n",
       "      <td>2</td>\n",
       "      <td>no</td>\n",
       "      <td>44396</td>\n",
       "    </tr>\n",
       "    <tr>\n",
       "      <th>housing</th>\n",
       "      <td>45211</td>\n",
       "      <td>2</td>\n",
       "      <td>yes</td>\n",
       "      <td>25130</td>\n",
       "    </tr>\n",
       "    <tr>\n",
       "      <th>loan</th>\n",
       "      <td>45211</td>\n",
       "      <td>2</td>\n",
       "      <td>no</td>\n",
       "      <td>37967</td>\n",
       "    </tr>\n",
       "    <tr>\n",
       "      <th>contact</th>\n",
       "      <td>45211</td>\n",
       "      <td>3</td>\n",
       "      <td>cellular</td>\n",
       "      <td>29285</td>\n",
       "    </tr>\n",
       "    <tr>\n",
       "      <th>month</th>\n",
       "      <td>45211</td>\n",
       "      <td>12</td>\n",
       "      <td>may</td>\n",
       "      <td>13766</td>\n",
       "    </tr>\n",
       "    <tr>\n",
       "      <th>poutcome</th>\n",
       "      <td>45211</td>\n",
       "      <td>4</td>\n",
       "      <td>unknown</td>\n",
       "      <td>36959</td>\n",
       "    </tr>\n",
       "    <tr>\n",
       "      <th>y</th>\n",
       "      <td>45211</td>\n",
       "      <td>2</td>\n",
       "      <td>no</td>\n",
       "      <td>39922</td>\n",
       "    </tr>\n",
       "  </tbody>\n",
       "</table>\n",
       "</div>"
      ],
      "text/plain": [
       "           count unique          top   freq\n",
       "job        45211     12  blue-collar   9732\n",
       "marital    45211      3      married  27214\n",
       "education  45211      4    secondary  23202\n",
       "default    45211      2           no  44396\n",
       "housing    45211      2          yes  25130\n",
       "loan       45211      2           no  37967\n",
       "contact    45211      3     cellular  29285\n",
       "month      45211     12          may  13766\n",
       "poutcome   45211      4      unknown  36959\n",
       "y          45211      2           no  39922"
      ]
     },
     "execution_count": 8,
     "metadata": {},
     "output_type": "execute_result"
    }
   ],
   "source": [
    "data.describe(include='object').T"
   ]
  },
  {
   "cell_type": "markdown",
   "id": "4d0ae481",
   "metadata": {},
   "source": [
    "Obervations:\n",
    "1) Cutomers with'Blue-Collar' job category are highest in the dataset and constitute almost 20% of the population.\n",
    "\n",
    "2) Almost 60% the customers in the campaign are married.\n",
    "\n",
    "3) 50% the them have completed their secondary level of education.\n",
    "\n",
    "4) 2% of the customers in the campaign are credit defaulted.\n",
    "\n",
    "5) More than 50% of the customers have a housing loan.\n",
    "\n",
    "6) Almost 65% of the them are contacted on the cellular phone.\n",
    "\n",
    "7) Slightly more than 80% of the attampts are resulted in the unknown outcome."
   ]
  },
  {
   "cell_type": "code",
   "execution_count": 9,
   "id": "a3e7d537",
   "metadata": {},
   "outputs": [
    {
     "data": {
      "text/plain": [
       "<AxesSubplot:>"
      ]
     },
     "execution_count": 9,
     "metadata": {},
     "output_type": "execute_result"
    },
    {
     "data": {
      "image/png": "[encoded data removed]",
      "text/plain": [
       "<Figure size 432x288 with 1 Axes>"
      ]
     },
     "metadata": {
      "needs_background": "light"
     },
     "output_type": "display_data"
    }
   ],
   "source": [
    "data.y.value_counts(normalize=True).plot(kind='bar')"
   ]
  },
  {
   "cell_type": "code",
   "execution_count": 10,
   "id": "1818da99",
   "metadata": {},
   "outputs": [
    {
     "data": {
      "text/plain": [
       "no     39922\n",
       "yes     5289\n",
       "Name: y, dtype: int64"
      ]
     },
     "execution_count": 10,
     "metadata": {},
     "output_type": "execute_result"
    }
   ],
   "source": [
    "data.y.value_counts()"
   ]
  },
  {
   "cell_type": "markdown",
   "id": "ef3005ec",
   "metadata": {},
   "source": [
    "The barplot indicate that 5289 number of customers(11.7%) have subscribed for the term deposit."
   ]
  },
  {
   "cell_type": "markdown",
   "id": "f3e47948",
   "metadata": {},
   "source": [
    "# Analysis of Inter Relationship Between Categorical Variables "
   ]
  },
  {
   "cell_type": "code",
   "execution_count": 11,
   "id": "378a3099",
   "metadata": {},
   "outputs": [
    {
     "data": {
      "image/png": "[encoded data removed]",
      "text/plain": [
       "<Figure size 1296x432 with 3 Axes>"
      ]
     },
     "metadata": {
      "needs_background": "light"
     },
     "output_type": "display_data"
    }
   ],
   "source": [
    "fig, axes=plt.subplots(1,3, figsize=(18,6))\n",
    "sns.countplot(x='marital', hue='y', data=data, ax=axes[0]).set_title('Target Variable by Marital Status')\n",
    "sns.countplot(x='education', hue='y', data=data, ax=axes[1]).set_title('Target Variable by Education')\n",
    "sns.countplot(x='default', hue='y', data=data, ax=axes[2]).set_title('Target Variable by Default')\n",
    "plt.show()"
   ]
  },
  {
   "cell_type": "code",
   "execution_count": 12,
   "id": "7b19e014",
   "metadata": {},
   "outputs": [
    {
     "data": {
      "image/png": "[encoded data removed]",
      "text/plain": [
       "<Figure size 1296x432 with 3 Axes>"
      ]
     },
     "metadata": {
      "needs_background": "light"
     },
     "output_type": "display_data"
    }
   ],
   "source": [
    "fig, axes=plt.subplots(1,3, figsize=(18,6))\n",
    "sns.countplot(x='housing', hue='y', data=data, ax=axes[0]).set_title('Target Variable by Housing Loan')\n",
    "sns.countplot(x='loan', hue='y', data=data, ax=axes[1]).set_title('Target Variable by Personal Loan')\n",
    "sns.countplot(x='contact', hue='y', data=data, ax=axes[2]).set_title('Target Variable by Mode of Contact')\n",
    "plt.show()"
   ]
  },
  {
   "cell_type": "code",
   "execution_count": 13,
   "id": "68a87881",
   "metadata": {},
   "outputs": [
    {
     "data": {
      "image/png": "[encoded data removed]",
      "text/plain": [
       "<Figure size 1296x432 with 2 Axes>"
      ]
     },
     "metadata": {
      "needs_background": "light"
     },
     "output_type": "display_data"
    }
   ],
   "source": [
    "figure, axes=plt.subplots(1,2, figsize=(18,6))\n",
    "sns.countplot(x='month', hue='y', data=data, ax=axes[0]).set_title('Target Variable by Latest Contact Month')\n",
    "sns.countplot(x='poutcome', hue='y', data=data, ax=axes[1]).set_title('Target Variable by Outcome of Campaign')\n",
    "plt.show()"
   ]
  },
  {
   "cell_type": "code",
   "execution_count": 14,
   "id": "4dd1315f",
   "metadata": {},
   "outputs": [
    {
     "data": {
      "image/png": "[encoded data removed]",
      "text/plain": [
       "<Figure size 720x432 with 1 Axes>"
      ]
     },
     "metadata": {
      "needs_background": "light"
     },
     "output_type": "display_data"
    }
   ],
   "source": [
    "plt.figure(figsize=(10,6))\n",
    "ax=sns.countplot(x='poutcome', hue='y', data=data)\n",
    "ax.set_title('Target Variable by Outcome of Campaign')\n",
    "for p in ax.patches:\n",
    "    ax.annotate(f'\\n{p.get_height()}', (p.get_x()+0.2, p.get_height()), ha='center',va='bottom',size=12)\n",
    "plt.xlabel(\"Previous Campaign Outcome\")\n",
    "plt.ylabel(\"Customer Count\")\n",
    "plt.show()"
   ]
  },
  {
   "cell_type": "markdown",
   "id": "ffdd9c8c",
   "metadata": {},
   "source": [
    "Total number of outcome of previous campaign as success is 1511 , out of which 978 also subscribe for term deposit as y='yes'.\n",
    "so 64% previous campaign client agreed to subscribe for term deposit.\n"
   ]
  },
  {
   "cell_type": "code",
   "execution_count": 15,
   "id": "176400ff",
   "metadata": {},
   "outputs": [
    {
     "data": {
      "image/png": "[encoded data removed]",
      "text/plain": [
       "<Figure size 720x432 with 1 Axes>"
      ]
     },
     "metadata": {
      "needs_background": "light"
     },
     "output_type": "display_data"
    }
   ],
   "source": [
    "plt.figure(figsize=(10,6))\n",
    "ax=sns.countplot(x='housing', hue='y', data=data)\n",
    "ax.set_title('Target Variable by Housing Loan')\n",
    "for p in ax.patches:\n",
    "    ax.annotate('{:}'.format(p.get_height()), (p.get_x()+0.2, p.get_height()+1), ha='center',va='bottom',size=12)\n",
    "plt.xlabel(\"Existing Housing Loan\")\n",
    "plt.ylabel(\"Customer Count\")\n",
    "plt.show()"
   ]
  },
  {
   "cell_type": "markdown",
   "id": "7d4956f6",
   "metadata": {},
   "source": [
    "64% (3354/5289) client have no housing loan who subscribed for term deposit."
   ]
  },
  {
   "cell_type": "code",
   "execution_count": 16,
   "id": "366b613a",
   "metadata": {},
   "outputs": [
    {
     "data": {
      "image/png": "[encoded data removed]",
      "text/plain": [
       "<Figure size 576x432 with 1 Axes>"
      ]
     },
     "metadata": {
      "needs_background": "light"
     },
     "output_type": "display_data"
    }
   ],
   "source": [
    "plt.figure(figsize=(8,6))\n",
    "ax=sns.countplot(x='loan', hue='y', data=data)\n",
    "ax.set_title('Target Variable by Personal Loan')\n",
    "for p in ax.patches:\n",
    "    ax.annotate('{:}'.format(p.get_height()), (p.get_x()+0.2, p.get_height()+1), va='bottom',size=12)\n",
    "plt.xlabel(\"Existing Personal Loan\")\n",
    "plt.ylabel(\"Customer Count\")\n",
    "plt.show()"
   ]
  },
  {
   "cell_type": "markdown",
   "id": "9e224787",
   "metadata": {},
   "source": [
    "90% (4805/6760) client doesn't  have personel loan who subscribed for term deposit."
   ]
  },
  {
   "cell_type": "code",
   "execution_count": 17,
   "id": "3a174a1b",
   "metadata": {},
   "outputs": [
    {
     "data": {
      "image/png": "[encoded data removed]",
      "text/plain": [
       "<Figure size 576x432 with 1 Axes>"
      ]
     },
     "metadata": {
      "needs_background": "light"
     },
     "output_type": "display_data"
    }
   ],
   "source": [
    "plt.figure(figsize=(8,6))\n",
    "ax=sns.barplot(y='duration', x='y', data=data)\n",
    "ax.set_title('Target Variable by Call Duration')\n",
    "for p in ax.patches:\n",
    "    ax.annotate('{:.0f}'.format(p.get_height()), (p.get_x()+0.2, p.get_height()+1), va='bottom',size=12)\n",
    "plt.xlabel(\"Subscribed a Term Deposit\")\n",
    "plt.ylabel(\"Call Duration (sec.)\")\n",
    "plt.show()"
   ]
  },
  {
   "cell_type": "markdown",
   "id": "95593990",
   "metadata": {},
   "source": [
    "On an average 537 sec duration was elapsed who subscribed for term deposit."
   ]
  },
  {
   "cell_type": "code",
   "execution_count": 18,
   "id": "bb7ebb7c",
   "metadata": {},
   "outputs": [
    {
     "data": {
      "image/png": "[encoded data removed]",
      "text/plain": [
       "<Figure size 576x432 with 1 Axes>"
      ]
     },
     "metadata": {
      "needs_background": "light"
     },
     "output_type": "display_data"
    }
   ],
   "source": [
    "plt.figure(figsize=(8,6))\n",
    "ax=sns.boxplot(y='age', x='y', data=data)\n",
    "ax.set_title('Target Variable by Age of Customer')\n",
    "plt.xlabel(\"Subscribed a Term Deposit\")\n",
    "plt.ylabel(\"Age of Customer (years)\")\n",
    "plt.show()"
   ]
  },
  {
   "cell_type": "markdown",
   "id": "98f01077",
   "metadata": {},
   "source": [
    "Majority of clients who subscribed for term deposit having age between 31 - 50 years."
   ]
  },
  {
   "cell_type": "code",
   "execution_count": 19,
   "id": "8ed74a21",
   "metadata": {},
   "outputs": [
    {
     "data": {
      "image/png": "[encoded data removed]",
      "text/plain": [
       "<Figure size 576x432 with 1 Axes>"
      ]
     },
     "metadata": {
      "needs_background": "light"
     },
     "output_type": "display_data"
    }
   ],
   "source": [
    "plt.figure(figsize=(8,6))\n",
    "ax=sns.countplot(x='default', hue='y', data=data)\n",
    "ax.set_title('Target Variable by Credit Default')\n",
    "for p in ax.patches:\n",
    "    ax.annotate('{:}'.format(p.get_height()), (p.get_x()+0.2, p.get_height()+1), va='bottom',size=12)\n",
    "plt.xlabel(\"Credit in Default\")\n",
    "plt.ylabel(\"Customer Count\")\n",
    "plt.show()"
   ]
  },
  {
   "cell_type": "markdown",
   "id": "f816c1e7",
   "metadata": {},
   "source": [
    "99% (5237/5289) clients who subscribed for term deposit doesn't have any credit default."
   ]
  },
  {
   "cell_type": "code",
   "execution_count": 20,
   "id": "b180eac7",
   "metadata": {},
   "outputs": [
    {
     "data": {
      "image/png": "[encoded data removed]",
      "text/plain": [
       "<Figure size 1440x576 with 3 Axes>"
      ]
     },
     "metadata": {
      "needs_background": "light"
     },
     "output_type": "display_data"
    }
   ],
   "source": [
    "fig, axes=plt.subplots(1,3, figsize=(20,8))\n",
    "sns.boxplot(y='campaign', x='y', data=data, ax=axes[0]).set_title('Target Variable by Contacts in Campaign')\n",
    "sns.boxplot(y='pdays', x='y', data=data, ax=axes[1]).set_title('Target Variable by Days pass by')\n",
    "sns.boxplot(y='previous', x='y', data=data, ax=axes[2]).set_title('Target Variable by Number of Previous Contacts')\n",
    "plt.show()"
   ]
  },
  {
   "cell_type": "markdown",
   "id": "81956dfd",
   "metadata": {},
   "source": [
    "# Preparing Data for Analysis"
   ]
  },
  {
   "cell_type": "code",
   "execution_count": 21,
   "id": "9c2eda39",
   "metadata": {},
   "outputs": [],
   "source": [
    "#Label encoding the categorical variables.\n",
    "le=LabelEncoder()\n",
    "data['job']=le.fit_transform(data['job'])\n",
    "data['marital']=le.fit_transform(data['marital'])\n",
    "data['education']=le.fit_transform(data['education'])\n",
    "data['default']=le.fit_transform(data['default'])\n",
    "data['housing']=le.fit_transform(data['housing'])\n",
    "data['loan']=le.fit_transform(data['loan'])\n",
    "data['contact']=le.fit_transform(data['contact'])\n",
    "data['month']=le.fit_transform(data['month'])\n",
    "data['poutcome']=le.fit_transform(data['poutcome'])\n",
    "data['y']=le.fit_transform(data['y'])"
   ]
  },
  {
   "cell_type": "markdown",
   "id": "c7eece7a",
   "metadata": {},
   "source": [
    "# Relevent Independent Variable Selection"
   ]
  },
  {
   "cell_type": "code",
   "execution_count": 22,
   "id": "9a5b4a74",
   "metadata": {},
   "outputs": [
    {
     "data": {
      "text/html": [
       "<div>\n",
       "<style scoped>\n",
       "    .dataframe tbody tr th:only-of-type {\n",
       "        vertical-align: middle;\n",
       "    }\n",
       "\n",
       "    .dataframe tbody tr th {\n",
       "        vertical-align: top;\n",
       "    }\n",
       "\n",
       "    .dataframe thead th {\n",
       "        text-align: right;\n",
       "    }\n",
       "</style>\n",
       "<table border=\"1\" class=\"dataframe\">\n",
       "  <thead>\n",
       "    <tr style=\"text-align: right;\">\n",
       "      <th></th>\n",
       "      <th>age</th>\n",
       "      <th>job</th>\n",
       "      <th>marital</th>\n",
       "      <th>education</th>\n",
       "      <th>default</th>\n",
       "      <th>balance</th>\n",
       "      <th>housing</th>\n",
       "      <th>loan</th>\n",
       "      <th>contact</th>\n",
       "      <th>day</th>\n",
       "      <th>month</th>\n",
       "      <th>duration</th>\n",
       "      <th>campaign</th>\n",
       "      <th>pdays</th>\n",
       "      <th>previous</th>\n",
       "      <th>poutcome</th>\n",
       "    </tr>\n",
       "  </thead>\n",
       "  <tbody>\n",
       "    <tr>\n",
       "      <th>0</th>\n",
       "      <td>0.519481</td>\n",
       "      <td>0.363636</td>\n",
       "      <td>0.5</td>\n",
       "      <td>0.666667</td>\n",
       "      <td>0.0</td>\n",
       "      <td>0.092259</td>\n",
       "      <td>1.0</td>\n",
       "      <td>0.0</td>\n",
       "      <td>1.0</td>\n",
       "      <td>0.133333</td>\n",
       "      <td>0.727273</td>\n",
       "      <td>0.053070</td>\n",
       "      <td>0.0</td>\n",
       "      <td>0.0</td>\n",
       "      <td>0.0</td>\n",
       "      <td>1.0</td>\n",
       "    </tr>\n",
       "    <tr>\n",
       "      <th>1</th>\n",
       "      <td>0.337662</td>\n",
       "      <td>0.818182</td>\n",
       "      <td>1.0</td>\n",
       "      <td>0.333333</td>\n",
       "      <td>0.0</td>\n",
       "      <td>0.073067</td>\n",
       "      <td>1.0</td>\n",
       "      <td>0.0</td>\n",
       "      <td>1.0</td>\n",
       "      <td>0.133333</td>\n",
       "      <td>0.727273</td>\n",
       "      <td>0.030704</td>\n",
       "      <td>0.0</td>\n",
       "      <td>0.0</td>\n",
       "      <td>0.0</td>\n",
       "      <td>1.0</td>\n",
       "    </tr>\n",
       "    <tr>\n",
       "      <th>2</th>\n",
       "      <td>0.194805</td>\n",
       "      <td>0.181818</td>\n",
       "      <td>0.5</td>\n",
       "      <td>0.333333</td>\n",
       "      <td>0.0</td>\n",
       "      <td>0.072822</td>\n",
       "      <td>1.0</td>\n",
       "      <td>1.0</td>\n",
       "      <td>1.0</td>\n",
       "      <td>0.133333</td>\n",
       "      <td>0.727273</td>\n",
       "      <td>0.015453</td>\n",
       "      <td>0.0</td>\n",
       "      <td>0.0</td>\n",
       "      <td>0.0</td>\n",
       "      <td>1.0</td>\n",
       "    </tr>\n",
       "    <tr>\n",
       "      <th>3</th>\n",
       "      <td>0.376623</td>\n",
       "      <td>0.090909</td>\n",
       "      <td>0.5</td>\n",
       "      <td>1.000000</td>\n",
       "      <td>0.0</td>\n",
       "      <td>0.086476</td>\n",
       "      <td>1.0</td>\n",
       "      <td>0.0</td>\n",
       "      <td>1.0</td>\n",
       "      <td>0.133333</td>\n",
       "      <td>0.727273</td>\n",
       "      <td>0.018707</td>\n",
       "      <td>0.0</td>\n",
       "      <td>0.0</td>\n",
       "      <td>0.0</td>\n",
       "      <td>1.0</td>\n",
       "    </tr>\n",
       "    <tr>\n",
       "      <th>4</th>\n",
       "      <td>0.194805</td>\n",
       "      <td>1.000000</td>\n",
       "      <td>1.0</td>\n",
       "      <td>1.000000</td>\n",
       "      <td>0.0</td>\n",
       "      <td>0.072812</td>\n",
       "      <td>0.0</td>\n",
       "      <td>0.0</td>\n",
       "      <td>1.0</td>\n",
       "      <td>0.133333</td>\n",
       "      <td>0.727273</td>\n",
       "      <td>0.040260</td>\n",
       "      <td>0.0</td>\n",
       "      <td>0.0</td>\n",
       "      <td>0.0</td>\n",
       "      <td>1.0</td>\n",
       "    </tr>\n",
       "  </tbody>\n",
       "</table>\n",
       "</div>"
      ],
      "text/plain": [
       "        age       job  marital  education  default   balance  housing  loan  \\\n",
       "0  0.519481  0.363636      0.5   0.666667      0.0  0.092259      1.0   0.0   \n",
       "1  0.337662  0.818182      1.0   0.333333      0.0  0.073067      1.0   0.0   \n",
       "2  0.194805  0.181818      0.5   0.333333      0.0  0.072822      1.0   1.0   \n",
       "3  0.376623  0.090909      0.5   1.000000      0.0  0.086476      1.0   0.0   \n",
       "4  0.194805  1.000000      1.0   1.000000      0.0  0.072812      0.0   0.0   \n",
       "\n",
       "   contact       day     month  duration  campaign  pdays  previous  poutcome  \n",
       "0      1.0  0.133333  0.727273  0.053070       0.0    0.0       0.0       1.0  \n",
       "1      1.0  0.133333  0.727273  0.030704       0.0    0.0       0.0       1.0  \n",
       "2      1.0  0.133333  0.727273  0.015453       0.0    0.0       0.0       1.0  \n",
       "3      1.0  0.133333  0.727273  0.018707       0.0    0.0       0.0       1.0  \n",
       "4      1.0  0.133333  0.727273  0.040260       0.0    0.0       0.0       1.0  "
      ]
     },
     "execution_count": 22,
     "metadata": {},
     "output_type": "execute_result"
    }
   ],
   "source": [
    "# Relevent Feature Selection using Recursive Feature Elimination\n",
    "x=data.drop(['y'],1)\n",
    "y=data['y']\n",
    "labels=list(x)\n",
    "scaler=MinMaxScaler()\n",
    "x_trans=scaler.fit_transform(x)\n",
    "\n",
    "#Reconverting The x in DataFrame.\n",
    "x=pd.DataFrame(x_trans, columns=labels)\n",
    "x.head()"
   ]
  },
  {
   "cell_type": "code",
   "execution_count": 23,
   "id": "43d1eb5d",
   "metadata": {},
   "outputs": [
    {
     "name": "stdout",
     "output_type": "stream",
     "text": [
      "RFE Support: [ True  True False False False  True False False False  True  True  True\n",
      " False  True False  True]\n",
      "\n",
      " RFE Ranking:  [1 1 5 4 9 1 3 8 6 1 1 1 2 1 7 1]\n",
      "\n",
      " Original Feature List:  ['age', 'job', 'marital', 'education', 'default', 'balance', 'housing', 'loan', 'contact', 'day', 'month', 'duration', 'campaign', 'pdays', 'previous', 'poutcome']\n"
     ]
    }
   ],
   "source": [
    "from sklearn.feature_selection import RFE\n",
    "rfe=RFE(DecisionTreeClassifier(), 8)\n",
    "\n",
    "rfe_fit=rfe.fit(x,y)\n",
    "print(\"RFE Support:\", rfe_fit.support_)\n",
    "print(\"\\n RFE Ranking: \", rfe_fit.ranking_)\n",
    "print(\"\\n Original Feature List: \",list(x))"
   ]
  },
  {
   "cell_type": "code",
   "execution_count": 24,
   "id": "d95b2b10",
   "metadata": {},
   "outputs": [],
   "source": [
    "#Relevent Feature List\n",
    "feature_list=['age', 'job', 'balance', 'day', 'month', 'duration', 'pdays', 'poutcome']"
   ]
  },
  {
   "cell_type": "code",
   "execution_count": 25,
   "id": "a3f36266",
   "metadata": {},
   "outputs": [
    {
     "data": {
      "text/html": [
       "<div>\n",
       "<style scoped>\n",
       "    .dataframe tbody tr th:only-of-type {\n",
       "        vertical-align: middle;\n",
       "    }\n",
       "\n",
       "    .dataframe tbody tr th {\n",
       "        vertical-align: top;\n",
       "    }\n",
       "\n",
       "    .dataframe thead th {\n",
       "        text-align: right;\n",
       "    }\n",
       "</style>\n",
       "<table border=\"1\" class=\"dataframe\">\n",
       "  <thead>\n",
       "    <tr style=\"text-align: right;\">\n",
       "      <th></th>\n",
       "      <th>age</th>\n",
       "      <th>job</th>\n",
       "      <th>balance</th>\n",
       "      <th>day</th>\n",
       "      <th>month</th>\n",
       "      <th>duration</th>\n",
       "      <th>pdays</th>\n",
       "      <th>poutcome</th>\n",
       "    </tr>\n",
       "  </thead>\n",
       "  <tbody>\n",
       "    <tr>\n",
       "      <th>0</th>\n",
       "      <td>0.519481</td>\n",
       "      <td>0.363636</td>\n",
       "      <td>0.092259</td>\n",
       "      <td>0.133333</td>\n",
       "      <td>0.727273</td>\n",
       "      <td>0.053070</td>\n",
       "      <td>0.0</td>\n",
       "      <td>1.0</td>\n",
       "    </tr>\n",
       "    <tr>\n",
       "      <th>1</th>\n",
       "      <td>0.337662</td>\n",
       "      <td>0.818182</td>\n",
       "      <td>0.073067</td>\n",
       "      <td>0.133333</td>\n",
       "      <td>0.727273</td>\n",
       "      <td>0.030704</td>\n",
       "      <td>0.0</td>\n",
       "      <td>1.0</td>\n",
       "    </tr>\n",
       "    <tr>\n",
       "      <th>2</th>\n",
       "      <td>0.194805</td>\n",
       "      <td>0.181818</td>\n",
       "      <td>0.072822</td>\n",
       "      <td>0.133333</td>\n",
       "      <td>0.727273</td>\n",
       "      <td>0.015453</td>\n",
       "      <td>0.0</td>\n",
       "      <td>1.0</td>\n",
       "    </tr>\n",
       "    <tr>\n",
       "      <th>3</th>\n",
       "      <td>0.376623</td>\n",
       "      <td>0.090909</td>\n",
       "      <td>0.086476</td>\n",
       "      <td>0.133333</td>\n",
       "      <td>0.727273</td>\n",
       "      <td>0.018707</td>\n",
       "      <td>0.0</td>\n",
       "      <td>1.0</td>\n",
       "    </tr>\n",
       "    <tr>\n",
       "      <th>4</th>\n",
       "      <td>0.194805</td>\n",
       "      <td>1.000000</td>\n",
       "      <td>0.072812</td>\n",
       "      <td>0.133333</td>\n",
       "      <td>0.727273</td>\n",
       "      <td>0.040260</td>\n",
       "      <td>0.0</td>\n",
       "      <td>1.0</td>\n",
       "    </tr>\n",
       "  </tbody>\n",
       "</table>\n",
       "</div>"
      ],
      "text/plain": [
       "        age       job   balance       day     month  duration  pdays  poutcome\n",
       "0  0.519481  0.363636  0.092259  0.133333  0.727273  0.053070    0.0       1.0\n",
       "1  0.337662  0.818182  0.073067  0.133333  0.727273  0.030704    0.0       1.0\n",
       "2  0.194805  0.181818  0.072822  0.133333  0.727273  0.015453    0.0       1.0\n",
       "3  0.376623  0.090909  0.086476  0.133333  0.727273  0.018707    0.0       1.0\n",
       "4  0.194805  1.000000  0.072812  0.133333  0.727273  0.040260    0.0       1.0"
      ]
     },
     "execution_count": 25,
     "metadata": {},
     "output_type": "execute_result"
    }
   ],
   "source": [
    "x_relevent=x[['age', 'job', 'balance', 'day', 'month', 'duration', 'pdays', 'poutcome']]\n",
    "x_relevent.head()"
   ]
  },
  {
   "cell_type": "markdown",
   "id": "791f8454",
   "metadata": {},
   "source": [
    "# Optimum Test Size Selection"
   ]
  },
  {
   "cell_type": "code",
   "execution_count": 26,
   "id": "838c69e0",
   "metadata": {},
   "outputs": [
    {
     "data": {
      "image/png": "[encoded data removed]",
      "text/plain": [
       "<Figure size 432x288 with 1 Axes>"
      ]
     },
     "metadata": {
      "needs_background": "light"
     },
     "output_type": "display_data"
    }
   ],
   "source": [
    "test_list=[0.1,0.2,0.3,0.4,0.5]\n",
    "acc_list=[]\n",
    "for num in test_list:\n",
    "    x_train, x_test, y_train, y_test=tts(x, y, test_size=num, random_state=1)\n",
    "    #Model building\n",
    "    dtc=DecisionTreeClassifier(criterion='entropy')\n",
    "    model1=dtc.fit(x_train, y_train)\n",
    "    dtc_pred=model1.predict(x_test)\n",
    "    acc=metrics.accuracy_score(y_test, dtc_pred)\n",
    "    #Appending the model accuracy per test size\n",
    "    acc_list.append(acc)\n",
    "    \n",
    "plt.plot(test_list, acc_list)\n",
    "plt.title(\"Decision Tree Model Accuracy on Test Data\")\n",
    "plt.xlabel(\"Test Data Size\")\n",
    "plt.ylabel(\"Accuracy\")\n",
    "plt.show()"
   ]
  },
  {
   "cell_type": "markdown",
   "id": "fb50c809",
   "metadata": {},
   "source": [
    "Decision tree model has best accuracy score at test data size of 10% on the given dataset."
   ]
  },
  {
   "cell_type": "markdown",
   "id": "ce89378e",
   "metadata": {},
   "source": [
    "# Decision Tree Model Building"
   ]
  },
  {
   "cell_type": "code",
   "execution_count": 27,
   "id": "1bb747d5",
   "metadata": {},
   "outputs": [
    {
     "name": "stdout",
     "output_type": "stream",
     "text": [
      "Confusion matrix Train [[35939     0]\n",
      " [    0  4750]]\n",
      "\n",
      " Accuracy Score Train 1.0\n",
      "Confusion matrix Test [[3692  291]\n",
      " [ 259  280]]\n",
      "\n",
      " Accuracy Score Test 0.8783724015922159\n",
      "\n",
      " Recall score Test 0.5194805194805194\n",
      "\n",
      " Precision Score Test 0.4903677758318739\n"
     ]
    }
   ],
   "source": [
    "#Consider a test size of 10%.\n",
    "x_train, x_test, y_train, y_test=tts(x, y, test_size=0.1, random_state=1)\n",
    "#Model building\n",
    "dtc=DecisionTreeClassifier(criterion='entropy')\n",
    "model2=dtc.fit(x_train, y_train)\n",
    "\n",
    "y_pred_train=model2.predict(x_train)\n",
    "y_pred_test=model2.predict(x_test)\n",
    "\n",
    "#Accuracy On train Data\n",
    "print(\"Confusion matrix Train\", confusion_matrix(y_train, y_pred_train))\n",
    "print(\"\\n Accuracy Score Train\", accuracy_score(y_train, y_pred_train))\n",
    "\n",
    "#Accuracy on test data\n",
    "print(\"Confusion matrix Test\", confusion_matrix(y_test, y_pred_test))\n",
    "print(\"\\n Accuracy Score Test\", accuracy_score(y_test, y_pred_test))\n",
    "print(\"\\n Recall score Test\", recall_score(y_test, y_pred_test))\n",
    "print(\"\\n Precision Score Test\", precision_score(y_test, y_pred_test))\n",
    "\n"
   ]
  },
  {
   "cell_type": "code",
   "execution_count": 28,
   "id": "d600fdff",
   "metadata": {},
   "outputs": [
    {
     "data": {
      "image/png": "[encoded data removed]",
      "text/plain": [
       "<Figure size 432x288 with 2 Axes>"
      ]
     },
     "metadata": {
      "needs_background": "light"
     },
     "output_type": "display_data"
    }
   ],
   "source": [
    "class_name=[0,1]\n",
    "tick_marks=np.arange(len(class_name))\n",
    "\n",
    "plt.figure(figsize=(6,4))\n",
    "sns.heatmap(pd.DataFrame(confusion_matrix(y_test, y_pred_test)),annot=True, cmap='coolwarm', fmt='g')\n",
    "\n",
    "plt.title(\"Confusion Matrix Model2\")\n",
    "plt.xlabel(\"Predicted Class\")\n",
    "plt.ylabel(\"Actual Class\")\n",
    "plt.show()"
   ]
  },
  {
   "cell_type": "markdown",
   "id": "7f6ca7a1",
   "metadata": {},
   "source": [
    "# Model Optimization"
   ]
  },
  {
   "cell_type": "code",
   "execution_count": 29,
   "id": "af48bb81",
   "metadata": {},
   "outputs": [
    {
     "name": "stdout",
     "output_type": "stream",
     "text": [
      "DecisionTreeClassifier(max_depth=8)\n",
      "0.9004154490399507\n",
      "{'max_depth': 8}\n"
     ]
    }
   ],
   "source": [
    "from sklearn.model_selection import GridSearchCV\n",
    "\n",
    "param_grid={'max_depth':[2,3,4,5,6,7,8,9,10,11]}\n",
    "decision_grid=GridSearchCV(DecisionTreeClassifier(), param_grid, cv=10, refit=True, verbose=0)\n",
    "decision_grid.fit(x_train, y_train)\n",
    "\n",
    "print(decision_grid.best_estimator_)\n",
    "print(decision_grid.best_score_)\n",
    "print(decision_grid.best_params_)"
   ]
  },
  {
   "cell_type": "code",
   "execution_count": 30,
   "id": "1a3e63e8",
   "metadata": {},
   "outputs": [
    {
     "name": "stdout",
     "output_type": "stream",
     "text": [
      "Confusion matrix Train [[34715  1224]\n",
      " [ 2318  2432]]\n",
      "\n",
      " Accuracy Score Train 0.9129494457961611\n",
      "Confusion matrix Test [[3820  163]\n",
      " [ 290  249]]\n",
      "\n",
      " Accuracy Score Test 0.8998230871295887\n",
      "\n",
      " Recall score Test 0.4619666048237477\n",
      "\n",
      " Precision Score Test 0.6043689320388349\n"
     ]
    }
   ],
   "source": [
    "#Consider a test size of 10% and depth of tree as 8.\n",
    "x_train, x_test, y_train, y_test=tts(x, y, test_size=0.1, random_state=1)\n",
    "#Model building\n",
    "dtc=DecisionTreeClassifier(criterion='entropy', max_depth=8)\n",
    "model3=dtc.fit(x_train, y_train)\n",
    "\n",
    "y_pred_train=model3.predict(x_train)\n",
    "y_pred_test=model3.predict(x_test)\n",
    "\n",
    "#Accuracy On train Data\n",
    "print(\"Confusion matrix Train\", confusion_matrix(y_train, y_pred_train))\n",
    "print(\"\\n Accuracy Score Train\", accuracy_score(y_train, y_pred_train))\n",
    "\n",
    "#Accuracy on test data\n",
    "print(\"Confusion matrix Test\", confusion_matrix(y_test, y_pred_test))\n",
    "print(\"\\n Accuracy Score Test\", accuracy_score(y_test, y_pred_test))\n",
    "print(\"\\n Recall score Test\", recall_score(y_test, y_pred_test))\n",
    "print(\"\\n Precision Score Test\", precision_score(y_test, y_pred_test))"
   ]
  },
  {
   "cell_type": "markdown",
   "id": "2346ecaf",
   "metadata": {},
   "source": [
    "The accuracy of decision tree model is improved to 90% on test data. The accuracy on test and train data is amlost equal which indicates that decision tree is not over / under fitted.\n",
    "\n",
    "Optimum paramesrs are:\n",
    "\n",
    "1) Information gain criterion= Entropy.\n",
    "\n",
    "2) Test data size= 10%.\n",
    "\n",
    "3) Max Depth of Decision tree= 8."
   ]
  },
  {
   "cell_type": "code",
   "execution_count": 31,
   "id": "8cdd3017",
   "metadata": {},
   "outputs": [
    {
     "data": {
      "image/png": "[encoded data removed]",
      "text/plain": [
       "<Figure size 432x288 with 2 Axes>"
      ]
     },
     "metadata": {
      "needs_background": "light"
     },
     "output_type": "display_data"
    }
   ],
   "source": [
    "# Display the confusion matrix\n",
    "class_name=[0,1]\n",
    "tick_marks=np.arange(len(class_name))\n",
    "\n",
    "plt.figure(figsize=(6,4))\n",
    "sns.heatmap(pd.DataFrame(confusion_matrix(y_test, y_pred_test)), annot=True, cmap='coolwarm', fmt='g')\n",
    "\n",
    "plt.title(\"Confusion Matrix Model3\")\n",
    "plt.xlabel(\"Predicted Class\")\n",
    "plt.ylabel(\"Actual Class\")\n",
    "plt.show()"
   ]
  },
  {
   "cell_type": "markdown",
   "id": "66037fcc",
   "metadata": {},
   "source": [
    "# Considering The Feature List Derived from RFE"
   ]
  },
  {
   "cell_type": "code",
   "execution_count": 32,
   "id": "f7881d44",
   "metadata": {},
   "outputs": [
    {
     "name": "stdout",
     "output_type": "stream",
     "text": [
      "Confusion matrix Train [[34916  1023]\n",
      " [ 2503  2247]]\n",
      "\n",
      " Accuracy Score Train 0.91334267246676\n",
      "Confusion matrix Test [[3829  154]\n",
      " [ 314  225]]\n",
      "\n",
      " Accuracy Score Test 0.8965059708093763\n",
      "\n",
      " Recall score Test 0.4174397031539889\n",
      "\n",
      " Precision Score Test 0.5936675461741425\n"
     ]
    }
   ],
   "source": [
    "# list of features by Recursive Feature Elimination Method is:\n",
    "x_relevent=x[['age', 'job', 'balance', 'day', 'month', 'duration', 'pdays', 'poutcome']]\n",
    "\n",
    "x_train, x_test, y_train, y_test=tts(x_relevent, y, test_size=0.1, random_state=1)\n",
    "#Model building\n",
    "dtc=DecisionTreeClassifier(criterion='entropy', max_depth=8)\n",
    "model4=dtc.fit(x_train, y_train)\n",
    "\n",
    "y_pred_train_rfe=model4.predict(x_train)\n",
    "y_pred_test_rfe=model4.predict(x_test)\n",
    "\n",
    "#Accuracy On train Data\n",
    "print(\"Confusion matrix Train\", confusion_matrix(y_train, y_pred_train_rfe))\n",
    "print(\"\\n Accuracy Score Train\", accuracy_score(y_train, y_pred_train_rfe))\n",
    "\n",
    "#Accuracy on test data\n",
    "print(\"Confusion matrix Test\", confusion_matrix(y_test, y_pred_test_rfe))\n",
    "print(\"\\n Accuracy Score Test\", accuracy_score(y_test, y_pred_test_rfe))\n",
    "print(\"\\n Recall score Test\", recall_score(y_test, y_pred_test_rfe))\n",
    "print(\"\\n Precision Score Test\", precision_score(y_test, y_pred_test_rfe))"
   ]
  },
  {
   "cell_type": "code",
   "execution_count": 33,
   "id": "1e74b799",
   "metadata": {},
   "outputs": [
    {
     "data": {
      "image/png": "[encoded data removed]",
      "text/plain": [
       "<Figure size 432x288 with 2 Axes>"
      ]
     },
     "metadata": {
      "needs_background": "light"
     },
     "output_type": "display_data"
    }
   ],
   "source": [
    "class_name=[0,1]\n",
    "tick_mark=np.arange(len(class_name))\n",
    "\n",
    "plt.figure(figsize=(6,4))\n",
    "sns.heatmap(pd.DataFrame(confusion_matrix(y_test, y_pred_test_rfe)), cmap='coolwarm', fmt='g', annot=True)\n",
    "\n",
    "plt.title(\"Confusion Matrix Model-RFE\")\n",
    "plt.xlabel(\"Predicted Class\")\n",
    "plt.ylabel(\"Actual Class\")\n",
    "plt.show()"
   ]
  },
  {
   "cell_type": "markdown",
   "id": "a25d1efc",
   "metadata": {},
   "source": [
    "The relevent features selected by RFE methos #8 out of #16 are giving same accuracy as that of model with all #16. "
   ]
  },
  {
   "cell_type": "markdown",
   "id": "d9d4a034",
   "metadata": {},
   "source": [
    "# Model Export for Deployment"
   ]
  },
  {
   "cell_type": "code",
   "execution_count": 34,
   "id": "e0bb444d",
   "metadata": {},
   "outputs": [],
   "source": [
    "import pickle\n",
    "file_name='Term_Deposit.sav'\n",
    "pickle.dump(model4, open(file_name, 'wb'))"
   ]
  },
  {
   "cell_type": "code",
   "execution_count": null,
   "id": "7f897368",
   "metadata": {},
   "outputs": [],
   "source": []
  }
 ],
 "metadata": {
  "kernelspec": {
   "display_name": "Python 3 (ipykernel)",
   "language": "python",
   "name": "python3"
  },
  "language_info": {
   "codemirror_mode": {
    "name": "ipython",
    "version": 3
   },
   "file_extension": ".py",
   "mimetype": "text/x-python",
   "name": "python",
   "nbconvert_exporter": "python",
   "pygments_lexer": "ipython3",
   "version": "3.8.8"
  }
 },
 "nbformat": 4,
 "nbformat_minor": 5
}
